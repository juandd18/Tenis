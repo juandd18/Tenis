{
 "cells": [
  {
   "cell_type": "code",
   "execution_count": null,
   "metadata": {},
   "outputs": [],
   "source": [
    "import torch\n",
    "import time\n",
    "import os\n",
    "import numpy as np\n",
    "\n",
    "from pathlib import Path\n",
    "from torch.autograd import Variable\n",
    "from tensorboardX import SummaryWriter\n",
    "\n",
    "from model import MADDPG"
   ]
  },
  {
   "cell_type": "code",
   "execution_count": null,
   "metadata": {},
   "outputs": [],
   "source": [
    "from unityagents import UnityEnvironment"
   ]
  },
  {
   "cell_type": "code",
   "execution_count": null,
   "metadata": {},
   "outputs": [],
   "source": [
    "env = UnityEnvironment(file_name='./Tennis_Windows_x86_64/Tennis.exe')"
   ]
  },
  {
   "cell_type": "code",
   "execution_count": null,
   "metadata": {},
   "outputs": [],
   "source": [
    "# get the default brain\n",
    "brain_name = env.brain_names[0]\n",
    "brain = env.brains[brain_name]\n",
    "\n",
    "# reset the environment\n",
    "env_info = env.reset(train_mode=True)[brain_name]\n",
    "\n",
    "# number of agents \n",
    "num_agents = len(env_info.agents)\n",
    "print('Number of agents:', num_agents)\n",
    "\n",
    "# size of each action\n",
    "action_size = brain.vector_action_space_size\n",
    "print('Size of each action:', action_size)\n",
    "\n",
    "# examine the state space \n",
    "states = env_info.vector_observations\n",
    "state_size = states.shape[1]\n",
    "print('There are {} agents. Each observes a state with length: {}'.format(states.shape[0], state_size))\n",
    "print('The state for the first agent looks like:', states[0])"
   ]
  },
  {
   "cell_type": "code",
   "execution_count": null,
   "metadata": {},
   "outputs": [],
   "source": [
    "#edit current run\n",
    "curr_run = 'run1'\n",
    "model_dir = Path('./models') \n",
    "run_dir = model_dir / curr_run\n",
    "log_dir = run_dir / 'logs'\n",
    "\n",
    "os.makedirs(run_dir)\n",
    "os.makedirs(log_dir)\n",
    "\n",
    "logger = SummaryWriter(str(log_dir))"
   ]
  },
  {
   "cell_type": "code",
   "execution_count": null,
   "metadata": {},
   "outputs": [],
   "source": [
    "\n",
    "# number of training episodes.\n",
    "# change this to higher number to experiment. say 30000.\n",
    "number_of_episodes = 10\n",
    "episode_length = 100\n",
    "batchsize = 128\n",
    "\n",
    "# amplitude of OU noise\n",
    "# this slowly decreases to 0\n",
    "noise = 1\n",
    "noise_reduction = 0.9999\n",
    "\n",
    "hidden_dim = 64\n",
    "gamma=0.95\n",
    "tau=0.02\n",
    "lr_actor=1.0e-4\n",
    "lr_critic=1.0e-3\n",
    "\n",
    "cuda_enabled = torch.cuda.is_available()\n",
    "\n",
    "agent_init_params = []\n",
    "agent_init_params.append({'num_in_pol': state_size,\n",
    "                                      'num_out_pol': action_size,\n",
    "                                      'num_in_critic': state_size})\n",
    "\n",
    "init_dict = {'gamma': gamma, 'tau': tau, 'lr': lr_actor,\n",
    "                     'hidden_dim': hidden_dim,\n",
    "                     'alg_types': 'MADDPG',\n",
    "                     'agent_init_params': agent_init_params,\n",
    "                     'discrete_action': False}\n",
    "\n"
   ]
  },
  {
   "cell_type": "code",
   "execution_count": null,
   "metadata": {},
   "outputs": [],
   "source": [
    "maddpg = MADDPG(agent_init_params,'MADDPG',num_agents)"
   ]
  },
  {
   "cell_type": "code",
   "execution_count": null,
   "metadata": {},
   "outputs": [],
   "source": [
    "maddpg.agents"
   ]
  },
  {
   "cell_type": "markdown",
   "metadata": {},
   "source": []
  },
  {
   "cell_type": "code",
   "execution_count": null,
   "metadata": {},
   "outputs": [],
   "source": [
    "i = 0\n",
    "for params in agent_init_params:\n",
    "    print(params)\n"
   ]
  },
  {
   "cell_type": "code",
   "execution_count": null,
   "metadata": {},
   "outputs": [],
   "source": []
  }
 ],
 "metadata": {
  "kernelspec": {
   "display_name": "Python 3",
   "language": "python",
   "name": "python3"
  },
  "language_info": {
   "codemirror_mode": {
    "name": "ipython",
    "version": 3
   },
   "file_extension": ".py",
   "mimetype": "text/x-python",
   "name": "python",
   "nbconvert_exporter": "python",
   "pygments_lexer": "ipython3",
   "version": "3.6.8"
  }
 },
 "nbformat": 4,
 "nbformat_minor": 2
}
