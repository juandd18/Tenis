{
 "cells": [
  {
   "cell_type": "code",
   "execution_count": 1,
   "metadata": {},
   "outputs": [],
   "source": [
    "import torch\n",
    "import time\n",
    "import os\n",
    "import numpy as np\n",
    "\n",
    "from pathlib import Path\n",
    "from torch.autograd import Variable\n",
    "from tensorboardX import SummaryWriter\n",
    "\n",
    "from model import MADDPG"
   ]
  },
  {
   "cell_type": "code",
   "execution_count": 2,
   "metadata": {},
   "outputs": [],
   "source": [
    "from unityagents import UnityEnvironment"
   ]
  },
  {
   "cell_type": "code",
   "execution_count": null,
   "metadata": {},
   "outputs": [],
   "source": [
    "env = UnityEnvironment(file_name='./Tennis_Windows_x86_64/Tennis.exe')"
   ]
  },
  {
   "cell_type": "code",
   "execution_count": null,
   "metadata": {},
   "outputs": [],
   "source": [
    "# get the default brain\n",
    "brain_name = env.brain_names[0]\n",
    "brain = env.brains[brain_name]\n",
    "\n",
    "# reset the environment\n",
    "env_info = env.reset(train_mode=True)[brain_name]\n",
    "\n",
    "# number of agents \n",
    "num_agents = len(env_info.agents)\n",
    "print('Number of agents:', num_agents)\n",
    "\n",
    "# size of each action\n",
    "action_size = brain.vector_action_space_size\n",
    "print('Size of each action:', action_size)\n",
    "\n",
    "# examine the state space \n",
    "states = env_info.vector_observations\n",
    "state_size = states.shape[1]\n",
    "print('There are {} agents. Each observes a state with length: {}'.format(states.shape[0], state_size))\n",
    "print('The state for the first agent looks like:', states[0])"
   ]
  },
  {
   "cell_type": "code",
   "execution_count": null,
   "metadata": {},
   "outputs": [],
   "source": [
    "#edit current run\n",
    "curr_run = 'run1'\n",
    "model_dir = Path('./models') \n",
    "run_dir = model_dir / curr_run\n",
    "log_dir = run_dir / 'logs'\n",
    "\n",
    "os.makedirs(run_dir)\n",
    "os.makedirs(log_dir)\n",
    "\n",
    "logger = SummaryWriter(str(log_dir))"
   ]
  },
  {
   "cell_type": "code",
   "execution_count": 3,
   "metadata": {},
   "outputs": [],
   "source": [
    "\n",
    "# number of training episodes.\n",
    "# change this to higher number to experiment. say 30000.\n",
    "number_of_episodes = 10\n",
    "episode_length = 100\n",
    "batchsize = 128\n",
    "\n",
    "# amplitude of OU noise\n",
    "# this slowly decreases to 0\n",
    "noise = 1\n",
    "noise_reduction = 0.9999\n",
    "\n",
    "hidden_dim_actor = 120\n",
    "hidden_dim_critic = 64\n",
    "gamma=0.95\n",
    "tau=0.02\n",
    "lr_actor=1.0e-4\n",
    "lr_critic=1.0e-3\n",
    "\n",
    "device = torch.device(\"cuda:0\" if torch.cuda.is_available() else \"cpu\")\n",
    "\n",
    "state_size = 22\n",
    "action_size = 2\n",
    "num_agents = 2\n",
    "\n",
    "\n",
    "agent_init_params = {'num_in_pol': state_size,\n",
    "                     'num_out_pol': action_size,\n",
    "                     'num_in_critic': state_size,\n",
    "                     'hidden_dim_actor': hidden_dim_actor,\n",
    "                     'hidden_dim_critic': hidden_dim_critic,\n",
    "                    'lr_actor':lr_actor,\n",
    "                    'lr_critic':lr_critic}\n",
    "\n",
    "init_dict = {'gamma': gamma, 'tau': tau,\n",
    "                     'alg_types': 'MADDPG',\n",
    "                     'agent_init_params':agent_init_params,\n",
    "                     'num_agents': 2,\n",
    "                     'discrete_action': False}\n",
    "\n"
   ]
  },
  {
   "cell_type": "code",
   "execution_count": 4,
   "metadata": {},
   "outputs": [],
   "source": []
  },
  {
   "cell_type": "code",
   "execution_count": 5,
   "metadata": {},
   "outputs": [
    {
     "name": "stdout",
     "output_type": "stream",
     "text": [
      "<model.ddpg.DDPGAgent object at 0x0000026279D61D30>\n",
      "<model.ddpg.DDPGAgent object at 0x0000026279D57A20>\n",
      "2\n"
     ]
    }
   ],
   "source": [
    "\n",
    "maddpg = MADDPG(**init_dict)\n",
    "\n",
    "scores1 = []\n",
    "scores2 = []\n",
    "mean_scores = []\n",
    "maddpg.prep_rollouts(device=device)\n",
    "\n",
    "for i_episode in range(0, 1):\n",
    "    env_info = env.reset(train_mode=True)[brain_name]\n",
    "    state = env_info.vector_observations\n",
    "    maddpg.reset_noise()\n",
    "    score1 = 0\n",
    "    score2 = 0\n",
    "    \n",
    "    while True:\n",
    "        state1 = np.concatenate([state[0], [1]]).reshape((1,state.shape[1]+1))\n",
    "        state2 = np.concatenate([state[1], [-1]]).reshape((1,state.shape[1]+1))\n",
    "        print(state)\n",
    "        actions = maddpg.step(state)\n",
    "        \n",
    "            #action1 = agent1.act(state1)\n",
    "            #action2 = agent2.act(state2)\n",
    "    \n",
    "    \n",
    "    "
   ]
  },
  {
   "cell_type": "markdown",
   "metadata": {},
   "source": []
  },
  {
   "cell_type": "code",
   "execution_count": 47,
   "metadata": {},
   "outputs": [
    {
     "data": {
      "text/plain": [
       "2"
      ]
     },
     "execution_count": 47,
     "metadata": {},
     "output_type": "execute_result"
    }
   ],
   "source": [
    "len([DDPGAgent(**agent_init_params) for i in range(num_agents)])\n"
   ]
  },
  {
   "cell_type": "code",
   "execution_count": 22,
   "metadata": {},
   "outputs": [],
   "source": [
    "from model import DDPGAgent\n",
    "agen = DDPGAgent(**agent_init_params)"
   ]
  },
  {
   "cell_type": "code",
   "execution_count": null,
   "metadata": {},
   "outputs": [],
   "source": []
  }
 ],
 "metadata": {
  "kernelspec": {
   "display_name": "Python 3",
   "language": "python",
   "name": "python3"
  },
  "language_info": {
   "codemirror_mode": {
    "name": "ipython",
    "version": 3
   },
   "file_extension": ".py",
   "mimetype": "text/x-python",
   "name": "python",
   "nbconvert_exporter": "python",
   "pygments_lexer": "ipython3",
   "version": "3.6.8"
  }
 },
 "nbformat": 4,
 "nbformat_minor": 2
}
