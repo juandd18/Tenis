{
 "cells": [
  {
   "cell_type": "code",
   "execution_count": 1,
   "metadata": {},
   "outputs": [],
   "source": [
    "import torch\n",
    "import time\n",
    "import os\n",
    "import numpy as np\n",
    "\n",
    "from pathlib import Path\n",
    "from torch.autograd import Variable\n",
    "from tensorboardX import SummaryWriter\n",
    "\n",
    "from model import MADDPG"
   ]
  },
  {
   "cell_type": "code",
   "execution_count": 2,
   "metadata": {},
   "outputs": [],
   "source": [
    "from unityagents import UnityEnvironment"
   ]
  },
  {
   "cell_type": "code",
   "execution_count": 3,
   "metadata": {},
   "outputs": [
    {
     "name": "stderr",
     "output_type": "stream",
     "text": [
      "INFO:unityagents:\n",
      "'Academy' started successfully!\n",
      "Unity Academy name: Academy\n",
      "        Number of Brains: 1\n",
      "        Number of External Brains : 1\n",
      "        Lesson number : 0\n",
      "        Reset Parameters :\n",
      "\t\t\n",
      "Unity brain name: TennisBrain\n",
      "        Number of Visual Observations (per agent): 0\n",
      "        Vector Observation space type: continuous\n",
      "        Vector Observation space size (per agent): 8\n",
      "        Number of stacked Vector Observation: 3\n",
      "        Vector Action space type: continuous\n",
      "        Vector Action space size (per agent): 2\n",
      "        Vector Action descriptions: , \n"
     ]
    }
   ],
   "source": [
    "env = UnityEnvironment(file_name='./Tennis_Windows_x86_64/Tennis.exe')"
   ]
  },
  {
   "cell_type": "code",
   "execution_count": 4,
   "metadata": {},
   "outputs": [
    {
     "name": "stdout",
     "output_type": "stream",
     "text": [
      "Number of agents: 2\n",
      "Size of each action: 2\n",
      "There are 2 agents. Each observes a state with length: 24\n",
      "The state for the first agent looks like: [ 0.          0.          0.          0.          0.          0.\n",
      "  0.          0.          0.          0.          0.          0.\n",
      "  0.          0.          0.          0.         -6.65278625 -1.5\n",
      " -0.          0.          6.83172083  6.         -0.          0.        ]\n"
     ]
    }
   ],
   "source": [
    "# get the default brain\n",
    "brain_name = env.brain_names[0]\n",
    "brain = env.brains[brain_name]\n",
    "\n",
    "# reset the environment\n",
    "env_info = env.reset(train_mode=True)[brain_name]\n",
    "\n",
    "# number of agents \n",
    "num_agents = len(env_info.agents)\n",
    "print('Number of agents:', num_agents)\n",
    "\n",
    "# size of each action\n",
    "action_size = brain.vector_action_space_size\n",
    "print('Size of each action:', action_size)\n",
    "\n",
    "# examine the state space \n",
    "states = env_info.vector_observations\n",
    "state_size = states.shape[1]\n",
    "print('There are {} agents. Each observes a state with length: {}'.format(states.shape[0], state_size))\n",
    "print('The state for the first agent looks like:', states[0])"
   ]
  },
  {
   "cell_type": "code",
   "execution_count": null,
   "metadata": {},
   "outputs": [],
   "source": [
    "#edit current run\n",
    "curr_run = 'run1'\n",
    "model_dir = Path('./models') \n",
    "run_dir = model_dir / curr_run\n",
    "log_dir = run_dir / 'logs'\n",
    "\n",
    "os.makedirs(run_dir)\n",
    "os.makedirs(log_dir)\n",
    "\n",
    "logger = SummaryWriter(str(log_dir))"
   ]
  },
  {
   "cell_type": "code",
   "execution_count": 5,
   "metadata": {},
   "outputs": [],
   "source": [
    "\n",
    "# number of training episodes.\n",
    "# change this to higher number to experiment. say 30000.\n",
    "number_of_episodes = 10\n",
    "episode_length = 100\n",
    "batchsize = 128\n",
    "\n",
    "# amplitude of OU noise\n",
    "# this slowly decreases to 0\n",
    "noise = 1\n",
    "noise_reduction = 0.9999\n",
    "\n",
    "hidden_dim_actor = 120\n",
    "hidden_dim_critic = 64\n",
    "gamma=0.95\n",
    "tau=0.02\n",
    "lr_actor=1.0e-4\n",
    "lr_critic=1.0e-3\n",
    "\n",
    "device = torch.device(\"cuda:0\" if torch.cuda.is_available() else \"cpu\")\n",
    "\n",
    "\n",
    "agent_init_params = {'num_in_pol': state_size,\n",
    "                     'num_out_pol': action_size,\n",
    "                     'num_in_critic': state_size,\n",
    "                     'hidden_dim_actor': hidden_dim_actor,\n",
    "                     'hidden_dim_critic': hidden_dim_critic,\n",
    "                    'lr_actor':lr_actor,\n",
    "                    'lr_critic':lr_critic}\n",
    "\n",
    "init_dict = {'gamma': gamma, 'tau': tau,\n",
    "                     'alg_types': 'MADDPG',\n",
    "                     'agent_init_params':agent_init_params,\n",
    "                     'num_agents': num_agents,\n",
    "                     'discrete_action': False}\n",
    "\n"
   ]
  },
  {
   "cell_type": "code",
   "execution_count": null,
   "metadata": {},
   "outputs": [],
   "source": []
  },
  {
   "cell_type": "code",
   "execution_count": 15,
   "metadata": {},
   "outputs": [
    {
     "name": "stdout",
     "output_type": "stream",
     "text": [
      "[[ 0.          0.          0.          0.          0.          0.\n",
      "   0.          0.         -6.59263992 -1.5        -0.          0.\n",
      "   6.83172083  5.0935564  -0.          0.         -6.25912094 -1.55886006\n",
      "   3.33519197 -0.98100001  6.83172083  4.62267637  3.33519197 -0.98100001]\n",
      " [ 0.          0.          0.          0.          0.          0.\n",
      "   0.          0.         -7.37911606 -1.5         0.          0.\n",
      "  -6.83172083  5.0935564   0.          0.         -7.01791191 -1.55886006\n",
      "   3.61205053 -0.98100001 -6.83172083  4.62267637  3.61205053 -0.98100001]]\n",
      "[0.0, 0.0]\n",
      "[[-6.59263992 -1.5        -0.          0.          6.83172083  5.0935564\n",
      "  -0.          0.         -6.25912094 -1.55886006  3.33519197 -0.98100001\n",
      "   6.83172083  4.62267637  3.33519197 -0.98100001 -7.25720739 -1.71581995\n",
      "  -9.98085785 -1.96200001  6.83172083  4.05369663 -9.98085785 -1.96200001]\n",
      " [-7.37911606 -1.5         0.          0.         -6.83172083  5.0935564\n",
      "   0.          0.         -7.01791191 -1.55886006  3.61205053 -0.98100001\n",
      "  -6.83172083  4.62267637  3.61205053 -0.98100001 -7.01649809 -1.71581995\n",
      "   0.01413926 -1.96200001 -6.83172083  4.05369663  0.01413926 -1.96200001]]\n",
      "[0.0, 0.0]\n",
      "[[-6.25912094 -1.55886006  3.33519197 -0.98100001  6.83172083  4.62267637\n",
      "   3.33519197 -0.98100001 -7.25720739 -1.71581995 -9.98085785 -1.96200001\n",
      "   6.83172083  4.05369663 -9.98085785 -1.96200001 -7.01942539 -1.85235918\n",
      "   2.37781143  0.          6.83172083  3.38661671  2.37781143  0.        ]\n",
      " [-7.01791191 -1.55886006  3.61205053 -0.98100001 -6.83172083  4.62267637\n",
      "   3.61205053 -0.98100001 -7.01649809 -1.71581995  0.01413926 -1.96200001\n",
      "  -6.83172083  4.05369663  0.01413926 -1.96200001 -7.64952087 -1.85235894\n",
      "  -6.33023167  0.         -6.83172083  3.38661671 -6.33023167  0.        ]]\n",
      "[0.0, 0.0]\n"
     ]
    }
   ],
   "source": [
    "\n",
    "maddpg = MADDPG(**init_dict)\n",
    "\n",
    "scores1 = []\n",
    "scores2 = []\n",
    "mean_scores = []\n",
    "maddpg.prep_rollouts(device=device)\n",
    "\n",
    "for i_episode in range(0, 1):\n",
    "    env_info = env.reset(train_mode=True)[brain_name]\n",
    "    state = env_info.vector_observations\n",
    "    maddpg.reset_noise()\n",
    "    score1 = 0\n",
    "    score2 = 0\n",
    "    i = 0\n",
    "    while True:\n",
    "        state1 = np.concatenate([state[0], [1]]).reshape((1,state.shape[1]+1))\n",
    "        state2 = np.concatenate([state[1], [-1]]).reshape((1,state.shape[1]+1))\n",
    "        \n",
    "        torch_actions = maddpg.step(state)\n",
    "        # convert actions to numpy arrays\n",
    "        agent_actions = [ac.data.numpy() for ac in torch_actions]\n",
    "        \n",
    "        env_info = env.step(agent_actions)[brain_name]\n",
    "        next_state = env_info.vector_observations\n",
    "        reward = env_info.rewards\n",
    "        done = env_info.local_done\n",
    "        \n",
    "        print(next_state)\n",
    "        print(reward)\n",
    "        \n",
    "        i+=1\n",
    "        if i > 2:\n",
    "            break\n",
    "        \n",
    "        \n",
    "        \n",
    "            \n",
    "        \n",
    "    \n",
    "    \n",
    "    "
   ]
  },
  {
   "cell_type": "markdown",
   "metadata": {},
   "source": []
  },
  {
   "cell_type": "code",
   "execution_count": null,
   "metadata": {},
   "outputs": [],
   "source": [
    "state"
   ]
  },
  {
   "cell_type": "code",
   "execution_count": null,
   "metadata": {},
   "outputs": [],
   "source": [
    "for a, obs in zip(maddpg.agents,state):\n",
    "    print(a)\n",
    "    print(obs)\n",
    "    print(obs.shape)\n",
    "    print(obs[None, ...])\n",
    "    #print(Variable(torch.Tensor(obs),requires_grad=False))"
   ]
  },
  {
   "cell_type": "code",
   "execution_count": null,
   "metadata": {},
   "outputs": [],
   "source": [
    "np.concatenate([state[0], [1]]).reshape((1,state.shape[1]+1))"
   ]
  },
  {
   "cell_type": "code",
   "execution_count": null,
   "metadata": {},
   "outputs": [],
   "source": [
    " [Variable(torch.Tensor(np.vstack(state[:, i])),\n",
    "                                  requires_grad=False)\n",
    "                         for i in range(maddpg.nagents)]"
   ]
  },
  {
   "cell_type": "code",
   "execution_count": null,
   "metadata": {},
   "outputs": [],
   "source": [
    "np.vstack(state[:, 0])"
   ]
  },
  {
   "cell_type": "code",
   "execution_count": null,
   "metadata": {},
   "outputs": [],
   "source": [
    "state"
   ]
  },
  {
   "cell_type": "code",
   "execution_count": null,
   "metadata": {},
   "outputs": [],
   "source": []
  },
  {
   "cell_type": "code",
   "execution_count": null,
   "metadata": {},
   "outputs": [],
   "source": []
  }
 ],
 "metadata": {
  "kernelspec": {
   "display_name": "Python 3",
   "language": "python",
   "name": "python3"
  },
  "language_info": {
   "codemirror_mode": {
    "name": "ipython",
    "version": 3
   },
   "file_extension": ".py",
   "mimetype": "text/x-python",
   "name": "python",
   "nbconvert_exporter": "python",
   "pygments_lexer": "ipython3",
   "version": "3.6.8"
  }
 },
 "nbformat": 4,
 "nbformat_minor": 2
}
